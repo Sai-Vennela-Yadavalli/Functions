{
 "cells": [
  {
   "cell_type": "code",
   "execution_count": 11,
   "id": "3b6de6a7-5222-4ebb-bb33-f51c41f2bab5",
   "metadata": {},
   "outputs": [],
   "source": [
    "def Subfields():\n",
    "    Lists = [\"Machine Learning\", \"Neural Networks\", \"Vision\", \"Robotics\", \"Speech Processing\", \"Natural Language Processing\"]\n",
    "    print(\"Sub-fields in AI are:\")\n",
    "    for i in Lists:\n",
    "        print(i)\n",
    "    return i   "
   ]
  },
  {
   "cell_type": "code",
   "execution_count": 12,
   "id": "603d94d6-78f5-4b08-b07e-f78c8e62c57b",
   "metadata": {},
   "outputs": [
    {
     "name": "stdout",
     "output_type": "stream",
     "text": [
      "Sub-fields in AI are:\n",
      "Machine Learning\n",
      "Neural Networks\n",
      "Vision\n",
      "Robotics\n",
      "Speech Processing\n",
      "Natural Language Processing\n"
     ]
    }
   ],
   "source": [
    "Fields = Subfields()"
   ]
  },
  {
   "cell_type": "code",
   "execution_count": 17,
   "id": "954415cb-8a49-4fa1-9149-f7b57f1ecbcb",
   "metadata": {},
   "outputs": [],
   "source": [
    "def Odd_Even_check():\n",
    "    num = int(input(\"Enter the number\"))\n",
    "    if (num%2) ==0:\n",
    "        print(num, \"is a Even Number\")\n",
    "        message = \"Even Number\"\n",
    "    else:\n",
    "        print(num, \"is a Odd Number\")\n",
    "        message = \"Odd Number\"\n",
    "    return message"
   ]
  },
  {
   "cell_type": "code",
   "execution_count": 18,
   "id": "87450f08-20a1-464e-9054-24fe5a28e3e7",
   "metadata": {},
   "outputs": [
    {
     "name": "stdin",
     "output_type": "stream",
     "text": [
      "Enter the number 8\n"
     ]
    },
    {
     "name": "stdout",
     "output_type": "stream",
     "text": [
      "8 is a Even Number\n"
     ]
    }
   ],
   "source": [
    "message = Odd_Even_check()"
   ]
  },
  {
   "cell_type": "code",
   "execution_count": 21,
   "id": "df050abc-d43a-4b30-9221-e715938d43d8",
   "metadata": {},
   "outputs": [],
   "source": [
    "def eligible():\n",
    "    gender = input(\"Your Gender\")\n",
    "    age = int(input(\"Your Age\"))\n",
    "\n",
    "    if gender == \"Male\" and age >=21:\n",
    "        print(\"You are Eligible\")\n",
    "        message = \"YOU ARE ELIGIBLE\"\n",
    "        \n",
    "    elif gender == \"Female\" and age >=18:\n",
    "        print(\"You are Eligible\")\n",
    "        message = \"YOU ARE ELIGIBLE\"\n",
    "    else:\n",
    "        print(\"You are NOT ELIGIBLE\")\n",
    "        message = \"YOU ARE NOT ELIGIBLE\"\n",
    "\n",
    "    return message"
   ]
  },
  {
   "cell_type": "code",
   "execution_count": 23,
   "id": "f923b50c-763b-4671-9951-8cf8c5ea439f",
   "metadata": {},
   "outputs": [
    {
     "name": "stdin",
     "output_type": "stream",
     "text": [
      "Your Gender Male\n",
      "Your Age 18\n"
     ]
    },
    {
     "name": "stdout",
     "output_type": "stream",
     "text": [
      "You are NOT ELIGIBLE\n"
     ]
    }
   ],
   "source": [
    "message = eligible()"
   ]
  },
  {
   "cell_type": "code",
   "execution_count": 28,
   "id": "f8a4607f-5573-4900-b0ae-d989c16c296c",
   "metadata": {},
   "outputs": [],
   "source": [
    "def percentage():\n",
    "    marks1 = int(input(\"Subject1 = \"))\n",
    "    marks2 = int(input(\"Subject2 = \"))\n",
    "    marks3 = int(input(\"Subject3 = \"))\n",
    "    marks4 = int(input(\"Subject4 = \"))\n",
    "    marks5 = int(input(\"Subject5 = \"))\n",
    "\n",
    "    Total = marks1 + marks2 + marks3 + marks4 + marks5\n",
    "    print(\"Total = \", Total)\n",
    "    Percentage = (Total/5)\n",
    "    print(\"Percentage = \", Percentage)"
   ]
  },
  {
   "cell_type": "code",
   "execution_count": 29,
   "id": "ba94e26b-cbd9-4b59-b92b-24e0d70cf78a",
   "metadata": {},
   "outputs": [
    {
     "name": "stdin",
     "output_type": "stream",
     "text": [
      "Subject1 =  23\n",
      "Subject2 =  45\n",
      "Subject3 =  34\n",
      "Subject4 =  23\n",
      "Subject5 =  23\n"
     ]
    },
    {
     "name": "stdout",
     "output_type": "stream",
     "text": [
      "Total =  148\n",
      "Percentage =  29.6\n"
     ]
    }
   ],
   "source": [
    "Marks = percentage()"
   ]
  },
  {
   "cell_type": "code",
   "execution_count": 30,
   "id": "d6c180f9-8b1a-4efd-970a-4a7af5db7bef",
   "metadata": {},
   "outputs": [],
   "source": [
    "def triangle():\n",
    "    height = int(input(\"Height = \"))\n",
    "    breadth = int(input(\"Breadth = \"))\n",
    "\n",
    "    Area = (height*breadth)/2\n",
    "    print(\"Area of Triangle = \", Area)\n",
    "\n",
    "    height1 = int(input(\"Height1 = \"))\n",
    "    height2 = int(input(\"Height2 = \"))\n",
    "    breadth1 = int(input(\"Breadth1 = \"))\n",
    "    Perimeter = height1 + height2 + breadth1\n",
    "    print(\"Perimeter of a Triangle = \", Perimeter)\n",
    "    "
   ]
  },
  {
   "cell_type": "code",
   "execution_count": 31,
   "id": "28f05be9-02fc-492b-b40a-a0e4120be251",
   "metadata": {},
   "outputs": [
    {
     "name": "stdin",
     "output_type": "stream",
     "text": [
      "Height =  3\n",
      "Breadth =  4\n"
     ]
    },
    {
     "name": "stdout",
     "output_type": "stream",
     "text": [
      "Area of Triangle =  6.0\n"
     ]
    },
    {
     "name": "stdin",
     "output_type": "stream",
     "text": [
      "Height1 =  45\n",
      "Height2 =  52\n",
      "Breadth1 =  64\n"
     ]
    },
    {
     "name": "stdout",
     "output_type": "stream",
     "text": [
      "Perimeter of a Triangle =  161\n"
     ]
    }
   ],
   "source": [
    "Calculation = triangle()"
   ]
  },
  {
   "cell_type": "code",
   "execution_count": null,
   "id": "1bf37a46-813e-4734-a52c-964674ebbe7a",
   "metadata": {},
   "outputs": [],
   "source": []
  }
 ],
 "metadata": {
  "kernelspec": {
   "display_name": "Python 3 (ipykernel)",
   "language": "python",
   "name": "python3"
  },
  "language_info": {
   "codemirror_mode": {
    "name": "ipython",
    "version": 3
   },
   "file_extension": ".py",
   "mimetype": "text/x-python",
   "name": "python",
   "nbconvert_exporter": "python",
   "pygments_lexer": "ipython3",
   "version": "3.12.7"
  }
 },
 "nbformat": 4,
 "nbformat_minor": 5
}
